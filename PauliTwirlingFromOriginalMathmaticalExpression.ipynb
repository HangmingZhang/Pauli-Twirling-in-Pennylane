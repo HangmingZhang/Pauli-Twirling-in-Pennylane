{
 "cells": [
  {
   "cell_type": "code",
   "execution_count": 1,
   "id": "1b9fa58c",
   "metadata": {},
   "outputs": [],
   "source": [
    "import pennylane as qml\n",
    "from pennylane import numpy as np\n",
    "import itertools"
   ]
  },
  {
   "cell_type": "code",
   "execution_count": 2,
   "id": "2740f96f",
   "metadata": {},
   "outputs": [],
   "source": [
    "class PauliTwirling:\n",
    "    def __init__(self, n_qubits):\n",
    "        self.n_qubits = n_qubits\n",
    "    \n",
    "    def twirlinglayer(self, measurements_str: str, pauli_op_n_qubits: list,\n",
    "                      noise_channel: \"qml.QubitChannel function\", channel_paras, channel_wires,\n",
    "                      circuit: \"function\", *args, **kwargs):\n",
    "        # channel_paras: it could be a float when the noise_channel is defined by qml.AmplitudeDamping\n",
    "        # or a list when the noise_channel is defined by qml.QubitChannel.\n",
    "        # *args, **kwargs: parameters of circuit.\n",
    "        \n",
    "        measurements_split = list(measurements_str)\n",
    "        \n",
    "        measurements = self.__save_measurements(measurements_split)\n",
    "        \n",
    "        circuit(*args, **kwargs)\n",
    "        \n",
    "        # Here’s the direct implementation of the Pauli twirling method\n",
    "        # —it’s based on the mathematical formulation itself\n",
    "        # and may differ slightly from practical approaches.\n",
    "        # However, our main goal here is to use the code\n",
    "        # to verify the mathematical principles behind Pauli twirling.\n",
    "        \n",
    "        self.__add_twirling_layer(pauli_op_n_qubits)\n",
    "        \n",
    "        noise_channel(channel_paras, channel_wires)\n",
    "        \n",
    "        self.__add_twirling_layer(pauli_op_n_qubits)\n",
    "        \n",
    "        return qml.expval(self.__create_measurement_ops(measurements))\n",
    "    \n",
    "    def paulitwirling(self, dev: \"qml.device for paulitwirling\", measurements_str: str,\n",
    "                     noise_channel: \"qml.QubitChannel function\", channel_paras, channel_wires,\n",
    "                      circuit: \"function\", *args, **kwargs):\n",
    "        twirled_expectation_value_lst = []\n",
    "        pauli_ops_n_qubits = self.__get_pauli_ops_n_qubits()\n",
    "        \n",
    "        for pauli_op_n_qubits in pauli_ops_n_qubits:\n",
    "            e = qml.QNode(self.twirlinglayer, dev)(measurements_str, pauli_op_n_qubits,\n",
    "                                            noise_channel, channel_paras, channel_wires,\n",
    "                                            circuit, *args, **kwargs)\n",
    "            twirled_expectation_value_lst.append(e)\n",
    "            \n",
    "        e = np.mean(twirled_expectation_value_lst)\n",
    "        return e\n",
    "    \n",
    "       \n",
    "    def __save_measurements(self, measurements_split):\n",
    "        measurements = []\n",
    "        for i, measurement_str in enumerate(measurements_split):\n",
    "            if measurement_str == \"I\":\n",
    "                continue\n",
    "            elif measurement_str == \"X\":\n",
    "                measurements.append(qml.PauliX(i))\n",
    "            elif measurement_str == \"Y\":\n",
    "                measurements.append(qml.PauliY(i))\n",
    "            elif measurement_str == \"Z\":\n",
    "                measurements.append(qml.PauliZ(i))\n",
    "            else:\n",
    "                raise ValueError(\"measurements_str can only be 'I', 'X', 'Y' or 'Z'.\")\n",
    "        return measurements\n",
    "    \n",
    "    def __create_measurement_ops(self, measurements):\n",
    "        measurement_ops = measurements[0]\n",
    "        for i in range(1, len(measurements)):\n",
    "            measurement_ops = measurement_ops @ measurements[i]\n",
    "        return measurement_ops\n",
    "    \n",
    "    \n",
    "    def __get_pauli_ops_n_qubits(self):\n",
    "        pauli_ops = [\"I\", \"X\", \"Y\", \"Z\"]\n",
    "        pauli_ops_n_qubits = list(itertools.product(pauli_ops, repeat=self.n_qubits))\n",
    "        return pauli_ops_n_qubits\n",
    "    \n",
    "    def __add_twirling_layer(self, pauli_op_n_qubits):\n",
    "        for i, pauli_op in enumerate(pauli_op_n_qubits):\n",
    "            if pauli_op == \"I\":\n",
    "                qml.Identity(wires=i)\n",
    "                \n",
    "            elif pauli_op == \"X\":\n",
    "                qml.PauliX(wires=i)\n",
    "                    \n",
    "            elif pauli_op == \"Y\":\n",
    "                qml.PauliY(wires=i)\n",
    "                    \n",
    "            elif pauli_op == \"Z\":\n",
    "                qml.PauliZ(wires=i)\n",
    "                \n",
    "            else:\n",
    "                print(\"Unexpected error!\")"
   ]
  },
  {
   "cell_type": "code",
   "execution_count": null,
   "id": "d9b22355",
   "metadata": {},
   "outputs": [],
   "source": [
    "# Great! We've successfully written the code for Pauli twirling.\n",
    "# But how does one know if our code is correct?\n",
    "# Next, we'll verify the correctness of the code from two aspects."
   ]
  },
  {
   "cell_type": "code",
   "execution_count": 3,
   "id": "5c8040a7",
   "metadata": {},
   "outputs": [],
   "source": [
    "n_qubits = 2\n",
    "dev = qml.device('default.mixed', wires=n_qubits)\n",
    "paulitwirling = PauliTwirling(n_qubits)\n",
    "measurements_str = \"IZ\""
   ]
  },
  {
   "cell_type": "code",
   "execution_count": null,
   "id": "7079b8ce",
   "metadata": {},
   "outputs": [],
   "source": [
    "# First, from the results of test_cir0 and test_cir1,\n",
    "# we can see that for the model where |0⟩ and |1⟩ states pass through the amplitude damping channel,\n",
    "# the expectation values after Pauli twirling are symmetric—one positive and one negative.\n",
    "# This aligns with the symmetry of the Pauli channel,\n",
    "# meaning the Pauli twirling successfully transformed the asymmetry of the amplitude damping channel into symmetry.\n",
    "# This is a great validation."
   ]
  },
  {
   "cell_type": "code",
   "execution_count": 4,
   "id": "5e9c7eb2",
   "metadata": {},
   "outputs": [],
   "source": [
    "def test_cir0():\n",
    "    pass\n",
    "\n",
    "def test_cir1():\n",
    "    qml.PauliX(wires=1)"
   ]
  },
  {
   "cell_type": "code",
   "execution_count": 5,
   "id": "c44894cc",
   "metadata": {},
   "outputs": [],
   "source": [
    "noise_channel = qml.AmplitudeDamping\n",
    "gamma = 0.15\n",
    "wires = 1"
   ]
  },
  {
   "cell_type": "code",
   "execution_count": 6,
   "id": "65ef9896",
   "metadata": {},
   "outputs": [
    {
     "name": "stdout",
     "output_type": "stream",
     "text": [
      "0.8500000000000001\n"
     ]
    }
   ],
   "source": [
    "e0 = paulitwirling.paulitwirling(dev, measurements_str,\n",
    "                            noise_channel, gamma, wires,\n",
    "                            test_cir0)\n",
    "print(e0)"
   ]
  },
  {
   "cell_type": "code",
   "execution_count": 7,
   "id": "0d14719a",
   "metadata": {},
   "outputs": [
    {
     "name": "stdout",
     "output_type": "stream",
     "text": [
      "-0.8500000000000001\n"
     ]
    }
   ],
   "source": [
    "e1 = paulitwirling.paulitwirling(dev, measurements_str,\n",
    "                            noise_channel, gamma, wires,\n",
    "                            test_cir1)\n",
    "print(e1)"
   ]
  },
  {
   "cell_type": "code",
   "execution_count": null,
   "id": "a3c8ca52",
   "metadata": {},
   "outputs": [],
   "source": [
    "# On the other hand,\n",
    "# we'll verify it using the relevant theorem of the Pauli channel's Z-mixed state expression.\n",
    "# According to the theorem, the expectation value of a quantum state\n",
    "# after passing through the Pauli channel has a linear relationship with the ideal value\n",
    "# —it only differs by a coefficient."
   ]
  },
  {
   "cell_type": "code",
   "execution_count": null,
   "id": "fa4f8f57",
   "metadata": {},
   "outputs": [],
   "source": [
    "def test_cir2():\n",
    "    qml.RX(0.5, wires=1)\n",
    "\n",
    "@qml.qnode(dev)\n",
    "def test_cir2_ideal():\n",
    "    qml.RX(0.5, wires=1)\n",
    "    return qml.expval(qml.PauliZ(1))"
   ]
  },
  {
   "cell_type": "code",
   "execution_count": 8,
   "id": "4f253308",
   "metadata": {},
   "outputs": [
    {
     "name": "stdout",
     "output_type": "stream",
     "text": [
      "0.7459451776068167\n"
     ]
    }
   ],
   "source": [
    "e2 = paulitwirling.paulitwirling(dev, measurements_str,\n",
    "                            noise_channel, gamma, wires,\n",
    "                            test_cir2)\n",
    "print(e2)"
   ]
  },
  {
   "cell_type": "code",
   "execution_count": 9,
   "id": "0bcb601d",
   "metadata": {},
   "outputs": [
    {
     "data": {
      "text/plain": [
       "tensor(0.87758256, requires_grad=True)"
      ]
     },
     "execution_count": 9,
     "metadata": {},
     "output_type": "execute_result"
    }
   ],
   "source": [
    "test_cir2_ideal()"
   ]
  },
  {
   "cell_type": "code",
   "execution_count": 10,
   "id": "589dca08",
   "metadata": {},
   "outputs": [
    {
     "name": "stdout",
     "output_type": "stream",
     "text": [
      "0.7459451776068168\n",
      "0.7459451776068167\n"
     ]
    }
   ],
   "source": [
    "p = e0\n",
    "# Based on the result from test_cir0, this coefficient should be 0.85, so we use test_cir2 to verify this.\n",
    "print(test_cir2_ideal() * p)\n",
    "print(e2)"
   ]
  },
  {
   "cell_type": "code",
   "execution_count": null,
   "id": "b9b9da83",
   "metadata": {},
   "outputs": [],
   "source": [
    "# From the output expectation values of test_cir2 and test_cir2_ideal,\n",
    "# we can see that they differ by exactly 0.85!\n",
    "# Therefore, our Pauli twirling code is most likely correct!"
   ]
  }
 ],
 "metadata": {
  "kernelspec": {
   "display_name": "Python 3 (ipykernel)",
   "language": "python",
   "name": "python3"
  },
  "language_info": {
   "codemirror_mode": {
    "name": "ipython",
    "version": 3
   },
   "file_extension": ".py",
   "mimetype": "text/x-python",
   "name": "python",
   "nbconvert_exporter": "python",
   "pygments_lexer": "ipython3",
   "version": "3.7.16"
  }
 },
 "nbformat": 4,
 "nbformat_minor": 5
}
