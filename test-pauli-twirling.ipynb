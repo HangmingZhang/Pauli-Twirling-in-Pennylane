{
 "cells": [
  {
   "cell_type": "code",
   "execution_count": 1,
   "id": "1a9a8cb5",
   "metadata": {},
   "outputs": [],
   "source": [
    "import pennylane as qml\n",
    "from pennylane import numpy as np\n",
    "import PauliTwirlingFromOriginalMathmaticalExpression as PT"
   ]
  },
  {
   "cell_type": "code",
   "execution_count": 2,
   "id": "7508d4c8",
   "metadata": {},
   "outputs": [],
   "source": [
    "n_qubits = 2\n",
    "dev = qml.device('default.mixed', wires=n_qubits)\n",
    "paulitwirling = PT.PauliTwirling(n_qubits)\n",
    "measurements_str = \"IZ\""
   ]
  },
  {
   "cell_type": "code",
   "execution_count": 3,
   "id": "a9e1c549",
   "metadata": {},
   "outputs": [],
   "source": [
    "def test_cir0():\n",
    "    pass\n",
    "\n",
    "def test_cir1():\n",
    "    qml.PauliX(wires=1)"
   ]
  },
  {
   "cell_type": "code",
   "execution_count": 4,
   "id": "fb3cdd60",
   "metadata": {},
   "outputs": [],
   "source": [
    "noise_channel = qml.AmplitudeDamping\n",
    "gamma = 0.15\n",
    "wires = 1"
   ]
  },
  {
   "cell_type": "code",
   "execution_count": 5,
   "id": "5a1d778c",
   "metadata": {},
   "outputs": [
    {
     "name": "stdout",
     "output_type": "stream",
     "text": [
      "0.8500000000000001\n"
     ]
    }
   ],
   "source": [
    "e0 = paulitwirling.paulitwirling(dev, measurements_str,\n",
    "                            noise_channel, gamma, wires,\n",
    "                            test_cir0)\n",
    "print(e0)"
   ]
  },
  {
   "cell_type": "code",
   "execution_count": 6,
   "id": "2d5a8342",
   "metadata": {},
   "outputs": [
    {
     "name": "stdout",
     "output_type": "stream",
     "text": [
      "-0.8500000000000001\n"
     ]
    }
   ],
   "source": [
    "e1 = paulitwirling.paulitwirling(dev, measurements_str,\n",
    "                            noise_channel, gamma, wires,\n",
    "                            test_cir1)\n",
    "print(e1)"
   ]
  },
  {
   "cell_type": "code",
   "execution_count": 7,
   "id": "f3b8cb68",
   "metadata": {},
   "outputs": [],
   "source": [
    "# First, from the results of test_cir0 and test_cir1,\n",
    "# we can see that for the model where |0⟩ and |1⟩ states pass through the amplitude damping channel,\n",
    "# the expectation values after Pauli twirling are symmetric—one positive and one negative.\n",
    "# This aligns with the symmetry of the Pauli channel,\n",
    "# meaning the Pauli twirling successfully transformed the asymmetry of the amplitude damping channel into symmetry.\n",
    "# This is a great validation."
   ]
  },
  {
   "cell_type": "code",
   "execution_count": 8,
   "id": "455e64fc",
   "metadata": {},
   "outputs": [],
   "source": [
    "# On the other hand,\n",
    "# we'll verify it using the relevant theorem of the Pauli channel's Z-mixed state expression.\n",
    "# According to the theorem, the expectation value of a quantum state\n",
    "# after passing through the Pauli channel has a linear relationship with the ideal value\n",
    "# —it only differs by a coefficient."
   ]
  },
  {
   "cell_type": "code",
   "execution_count": 9,
   "id": "a78208dd",
   "metadata": {},
   "outputs": [],
   "source": [
    "def test_cir2():\n",
    "    qml.RX(0.5, wires=1)\n",
    "\n",
    "@qml.qnode(dev)\n",
    "def test_cir2_ideal():\n",
    "    qml.RX(0.5, wires=1)\n",
    "    return qml.expval(qml.PauliZ(1))"
   ]
  },
  {
   "cell_type": "code",
   "execution_count": 10,
   "id": "b9e642a5",
   "metadata": {},
   "outputs": [
    {
     "name": "stdout",
     "output_type": "stream",
     "text": [
      "0.7459451776068167\n"
     ]
    }
   ],
   "source": [
    "e2 = paulitwirling.paulitwirling(dev, measurements_str,\n",
    "                            noise_channel, gamma, wires,\n",
    "                            test_cir2)\n",
    "print(e2)"
   ]
  },
  {
   "cell_type": "code",
   "execution_count": 11,
   "id": "e5c0065a",
   "metadata": {},
   "outputs": [
    {
     "data": {
      "text/plain": [
       "tensor(0.87758256, requires_grad=True)"
      ]
     },
     "execution_count": 11,
     "metadata": {},
     "output_type": "execute_result"
    }
   ],
   "source": [
    "test_cir2_ideal()"
   ]
  },
  {
   "cell_type": "code",
   "execution_count": 12,
   "id": "5c1b3a24",
   "metadata": {},
   "outputs": [
    {
     "name": "stdout",
     "output_type": "stream",
     "text": [
      "0.7459451776068168\n",
      "0.7459451776068167\n"
     ]
    }
   ],
   "source": [
    "p = e0\n",
    "# Based on the result from test_cir0, this coefficient should be 0.85, so we use test_cir2 to verify this.\n",
    "print(test_cir2_ideal() * p)\n",
    "print(e2)"
   ]
  },
  {
   "cell_type": "code",
   "execution_count": 13,
   "id": "c53ce3d7",
   "metadata": {},
   "outputs": [],
   "source": [
    "# From the output expectation values of test_cir2 and test_cir2_ideal,\n",
    "# we can see that they differ by exactly 0.85!\n",
    "# Therefore, our Pauli twirling code is most likely correct!"
   ]
  }
 ],
 "metadata": {
  "kernelspec": {
   "display_name": "Python 3 (ipykernel)",
   "language": "python",
   "name": "python3"
  },
  "language_info": {
   "codemirror_mode": {
    "name": "ipython",
    "version": 3
   },
   "file_extension": ".py",
   "mimetype": "text/x-python",
   "name": "python",
   "nbconvert_exporter": "python",
   "pygments_lexer": "ipython3",
   "version": "3.7.16"
  }
 },
 "nbformat": 4,
 "nbformat_minor": 5
}
